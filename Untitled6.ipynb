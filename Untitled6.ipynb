{
  "nbformat": 4,
  "nbformat_minor": 0,
  "metadata": {
    "colab": {
      "provenance": [],
      "authorship_tag": "ABX9TyOMuXDiPozMC9HSyun7llsz",
      "include_colab_link": true
    },
    "kernelspec": {
      "name": "python3",
      "display_name": "Python 3"
    },
    "language_info": {
      "name": "python"
    }
  },
  "cells": [
    {
      "cell_type": "markdown",
      "metadata": {
        "id": "view-in-github",
        "colab_type": "text"
      },
      "source": [
        "<a href=\"https://colab.research.google.com/github/Caoanferreira/Unimar/blob/main/Untitled6.ipynb\" target=\"_parent\"><img src=\"https://colab.research.google.com/assets/colab-badge.svg\" alt=\"Open In Colab\"/></a>"
      ]
    },
    {
      "cell_type": "code",
      "execution_count": 22,
      "metadata": {
        "id": "KDXFnc9bxJZ9"
      },
      "outputs": [],
      "source": [
        "import pandas as pd\n",
        "import matplotlib.pyplot as plt\n",
        "import numpy as np\n",
        "import os\n",
        "import requests\n",
        "import sys # Importar sys para sys.exit()\n",
        "import unicodedata # Para a função slugify_column_name"
      ]
    },
    {
      "cell_type": "markdown",
      "source": [
        "--- 1. Importação e Organização dos Dados ---\n",
        " URL ATUALIZADA para baixar o arquivo CSV\n",
        " Esta URL foi encontrada via busca e aponta para a 3ª edição da EBT no dados.gov.br\n"
      ],
      "metadata": {
        "id": "_yt7nYcixj78"
      }
    },
    {
      "cell_type": "code",
      "source": [
        "\n",
        "file_url = 'https://dados.gov.br/dados/dataset/escala-brasil-transparente-ebt/resource/dd38f831-297c-473d-88b1-364230282b0e/download/dados_ebt_20170711.csv'\n",
        "file_name = 'EBT_3a_Edicao.csv' # Nome do arquivo que será salvo localmente\n"
      ],
      "metadata": {
        "id": "3oghLw3lxpFg"
      },
      "execution_count": 23,
      "outputs": []
    },
    {
      "cell_type": "markdown",
      "source": [
        "Verificar se o arquivo já existe, se não, baixá-lo"
      ],
      "metadata": {
        "id": "Ya4UroGnxv8t"
      }
    },
    {
      "cell_type": "code",
      "source": [
        "if not os.path.exists(file_name):\n",
        "    print(f\"Arquivo '{file_name}' não encontrado. Tentando baixar de: {file_url}\")\n",
        "    try:\n",
        "        response = requests.get(file_url)\n",
        "        response.raise_for_status() # Levanta um erro para códigos de status HTTP ruins (4xx ou 5xx)\n",
        "        with open(file_name, 'wb') as f:\n",
        "            f.write(response.content)\n",
        "        print(f\"Arquivo '{file_name}' baixado com sucesso!\")\n",
        "    except requests.exceptions.RequestException as e:\n",
        "        print(f\"Erro ao baixar o arquivo: {e}\")\n",
        "        print(\"Por favor, verifique a URL ou sua conexão com a internet. A URL pode ter mudado novamente.\")\n",
        "        sys.exit(1) # Sai do script com código de erro\n",
        "else:\n",
        "    print(f\"Arquivo '{file_name}' já existe. Prosseguindo com a importação.\")\n"
      ],
      "metadata": {
        "colab": {
          "base_uri": "https://localhost:8080/"
        },
        "id": "d81B0GayyEg_",
        "outputId": "66d3b198-e3d2-4590-e33d-68e93d696acd"
      },
      "execution_count": 24,
      "outputs": [
        {
          "output_type": "stream",
          "name": "stdout",
          "text": [
            "Arquivo 'EBT_3a_Edicao.csv' já existe. Prosseguindo com a importação.\n"
          ]
        }
      ]
    },
    {
      "cell_type": "markdown",
      "source": [
        " Tentar importar o CSV com diferentes configurações\n",
        " Definir uma lista de tentativas de configurações (separador, encoding)\n"
      ],
      "metadata": {
        "id": "-zcTIbSHyPsp"
      }
    },
    {
      "cell_type": "code",
      "source": [
        "csv_load_attempts = [\n",
        "    { 'sep': ';', 'encoding': 'utf-8', 'on_bad_lines': 'skip'},\n",
        "    { 'sep': ';', 'encoding': 'latin1', 'on_bad_lines': 'skip'},\n",
        "    { 'sep': ',', 'encoding': 'utf-8', 'on_bad_lines': 'skip'},\n",
        "    { 'sep': ',', 'encoding': 'latin1', 'on_bad_lines': 'skip'},\n",
        "    # Adicionando engine='python' para maior robustez em casos de linhas malformadas\n",
        "    { 'sep': ';', 'encoding': 'utf-8', 'engine': 'python', 'on_bad_lines': 'skip'},\n",
        "    { 'sep': ';', 'encoding': 'latin1', 'engine': 'python', 'on_bad_lines': 'skip'},\n",
        "    { 'sep': ',', 'encoding': 'utf-8', 'engine': 'python', 'on_bad_lines': 'skip'},\n",
        "    { 'sep': ',', 'encoding': 'latin1', 'engine': 'python', 'on_bad_lines': 'skip'},\n",
        "    # Adicionar tentativa com o delimitador tab, caso seja um TSV mascarado de CSV\n",
        "    { 'sep': '\\t', 'encoding': 'utf-8', 'on_bad_lines': 'skip'},\n",
        "    { 'sep': '\\t', 'encoding': 'latin1', 'on_bad_lines': 'skip'},\n",
        "]\n",
        "\n",
        "df = None\n",
        "for attempt in csv_load_attempts:\n",
        "    try:\n",
        "        print(f\"Tentando importar '{file_name}' com configurações: {attempt}\")\n",
        "        df = pd.read_csv(file_name, **attempt)\n",
        "        if df.shape[1] > 1: # Verifica se o DataFrame tem mais de uma coluna, o que indica que o separador funcionou\n",
        "            print(f\"Dados importados com sucesso com separador '{attempt['sep']}' e encoding '{attempt['encoding']}' (linhas problemáticas puladas).\")\n",
        "            break # Sai do loop se a importação for bem-sucedida\n",
        "        else:\n",
        "            print(\"Importação resultou em apenas uma coluna. Tentando próxima configuração...\")\n",
        "            df = None # Reseta df para tentar a próxima configuração\n",
        "    except pd.errors.ParserError as e:\n",
        "        print(f\"ParserError ao importar com {attempt}: {e}. Tentando próxima configuração.\")\n",
        "    except Exception as e:\n",
        "        print(f\"Erro inesperado ao importar com {attempt}: {e}. Tentando próxima configuração.\")\n",
        "\n",
        "if df is None:\n",
        "    print(\"Todas as tentativas de importação falharam.\")\n",
        "    print(\"Por favor, verifique o arquivo CSV manualmente para identificar o separador correto, encoding e possíveis problemas de formatação.\")\n",
        "    sys.exit(1) # Sai do script com código de erro\n",
        "\n",
        "print(f\"Número de linhas: {df.shape[0]}, Número de colunas: {df.shape[1]}\")\n",
        "print(\"\\nPrimeiras 5 linhas do dataset:\")\n",
        "print(df.head())\n",
        "print(\"\\nInformações sobre as colunas e tipos de dados:\")\n",
        "df.info()\n"
      ],
      "metadata": {
        "colab": {
          "base_uri": "https://localhost:8080/"
        },
        "id": "uvIRJ443yRlQ",
        "outputId": "ac75b62e-7e56-4ae2-af91-26d44b1bc156"
      },
      "execution_count": 25,
      "outputs": [
        {
          "output_type": "stream",
          "name": "stdout",
          "text": [
            "Tentando importar 'EBT_3a_Edicao.csv' com configurações: {'sep': ';', 'encoding': 'utf-8', 'on_bad_lines': 'skip'}\n",
            "Dados importados com sucesso com separador ';' e encoding 'utf-8' (linhas problemáticas puladas).\n",
            "Número de linhas: 2, Número de colunas: 2\n",
            "\n",
            "Primeiras 5 linhas do dataset:\n",
            "  <!DOCTYPE html><html><head><script>(function(w,d,s,l,i){w[l]=w[l]||[]  \\\n",
            "0                new Date().getTime(),event:'gtm....                      \n",
            "1                new Date().getTime(),event:'gtm....                      \n",
            "\n",
            "               w[l].push({'gtm.start':  \n",
            "0  var f=d.getElementsByTagName(s)[0],  \n",
            "1  var f=d.getElementsByTagName(s)[0],  \n",
            "\n",
            "Informações sobre as colunas e tipos de dados:\n",
            "<class 'pandas.core.frame.DataFrame'>\n",
            "RangeIndex: 2 entries, 0 to 1\n",
            "Data columns (total 2 columns):\n",
            " #   Column                                                                 Non-Null Count  Dtype \n",
            "---  ------                                                                 --------------  ----- \n",
            " 0   <!DOCTYPE html><html><head><script>(function(w,d,s,l,i){w[l]=w[l]||[]  2 non-null      object\n",
            " 1   w[l].push({'gtm.start':                                                2 non-null      object\n",
            "dtypes: object(2)\n",
            "memory usage: 164.0+ bytes\n"
          ]
        }
      ]
    },
    {
      "cell_type": "markdown",
      "source": [
        "2. Limpeza e Preparação dos Dados"
      ],
      "metadata": {
        "id": "4N-ZpA8gyblQ"
      }
    },
    {
      "cell_type": "code",
      "source": [
        "# Renomear colunas para facilitar o uso: padroniza nomes (remove espaços, acentos, pontuação e converte para minúsculas)\n",
        "def slugify_column_name(col_name):\n",
        "    \"\"\"Converte um nome de coluna para um formato 'slug' amigável (minúsculas, sem acentos, espaços por underline).\"\"\"\n",
        "    col_name = str(col_name) # Garante que é string\n",
        "    col_name = unicodedata.normalize('NFKD', col_name).encode('ascii', 'ignore').decode('utf-8')\n",
        "    col_name = col_name.replace(' ', '_').replace('-', '_') # Substitui espaços e hífens por underscore\n",
        "    col_name = ''.join(c for c in col_name if c.isalnum() or c == '_') # Remove caracteres não alfanuméricos exceto underscore\n",
        "    return col_name.lower()\n",
        "\n",
        "df.columns = [slugify_column_name(col) for col in df.columns]\n",
        "# Mapeamento específico de algumas colunas após a padronização automática\n",
        "\n"
      ],
      "metadata": {
        "id": "2xP1HzN8yeBm"
      },
      "execution_count": 26,
      "outputs": []
    },
    {
      "cell_type": "markdown",
      "source": [
        "Verificando se os nomes originais (chaves) batem com o que o slugify_column_name gerou\n",
        "\n",
        "Adicionado tratamento para o caso de o nome da coluna original já ser um slug"
      ],
      "metadata": {
        "id": "tQY7cPYgzhXG"
      }
    },
    {
      "cell_type": "code",
      "source": [
        "col_mapping = {\n",
        "    'ente_federativo': 'municipio_estado',\n",
        "    'uf': 'estado',\n",
        "    'tipo_ente': 'tipo_ente',\n",
        "    'populacao': 'populacao',\n",
        "    'nota_geral': 'nota_geral',\n",
        "    'nota_transparencia_ativa': 'nota_transparencia_ativa',\n",
        "    'nota_transparencia_passiva': 'nota_transparencia_passiva',\n",
        "    'ranking_geral': 'ranking_geral',\n",
        "    'ranking_uf': 'ranking_uf',\n",
        "    'regiao': 'regiao'\n",
        "}"
      ],
      "metadata": {
        "id": "PAlTRYAgzXqZ"
      },
      "execution_count": 27,
      "outputs": []
    },
    {
      "cell_type": "markdown",
      "source": [
        " Renomear colunas: df.rename já lida com chaves que não existem no df\n",
        " Filtrar o mapeamento para incluir apenas colunas que existem no DataFrame"
      ],
      "metadata": {
        "id": "N9dpYBDHz9df"
      }
    },
    {
      "cell_type": "code",
      "source": [
        "actual_col_mapping = {\n",
        "    old_name: new_name for old_name, new_name in col_mapping.items()\n",
        "    if old_name in df.columns and old_name != new_name # Só mapeia se o nome for diferente\n",
        "}\n",
        "df = df.rename(columns=actual_col_mapping)\n",
        "print(\"\\nColunas renomeadas com sucesso (e padronizadas)!\")\n",
        "print(\"Novas colunas do dataset:\")\n",
        "print(df.columns.tolist())\n",
        "print(\"\\nPrimeiras 5 linhas do dataset após renomear colunas:\")\n",
        "print(df.head())\n"
      ],
      "metadata": {
        "colab": {
          "base_uri": "https://localhost:8080/"
        },
        "id": "JcoAIQ_5zxXY",
        "outputId": "4c1620bd-dcf9-4318-b418-67e6b1fa8249"
      },
      "execution_count": 28,
      "outputs": [
        {
          "output_type": "stream",
          "name": "stdout",
          "text": [
            "\n",
            "Colunas renomeadas com sucesso (e padronizadas)!\n",
            "Novas colunas do dataset:\n",
            "['doctype_htmlhtmlheadscriptfunctionwdsliwlwl', 'wlpushgtmstart']\n",
            "\n",
            "Primeiras 5 linhas do dataset após renomear colunas:\n",
            "         doctype_htmlhtmlheadscriptfunctionwdsliwlwl  \\\n",
            "0                new Date().getTime(),event:'gtm....   \n",
            "1                new Date().getTime(),event:'gtm....   \n",
            "\n",
            "                        wlpushgtmstart  \n",
            "0  var f=d.getElementsByTagName(s)[0],  \n",
            "1  var f=d.getElementsByTagName(s)[0],  \n"
          ]
        }
      ]
    },
    {
      "cell_type": "markdown",
      "source": [],
      "metadata": {
        "id": "dkXwneLIykQj"
      }
    },
    {
      "cell_type": "markdown",
      "source": [
        "Converter 'nota_geral' e outras notas para numérico, tratando erros"
      ],
      "metadata": {
        "id": "bSs0oUIc0DO1"
      }
    },
    {
      "cell_type": "code",
      "source": [
        "for col in ['nota_geral', 'nota_transparencia_ativa', 'nota_transparencia_passiva']:\n",
        "    if col in df.columns:\n",
        "        print(f\"Processando coluna numérica: '{col}'\")\n",
        "        # Substituir vírgula por ponto para conversão para float\n",
        "        # Garante que seja string antes de aplicar .str.replace\n",
        "        df[col] = df[col].astype(str).str.replace(',', '.', regex=False)\n",
        "        df[col] = pd.to_numeric(df[col], errors='coerce')\n",
        "        # Preencher valores NaN (Not a Number) com a mediana\n",
        "        df[col].fillna(df[col].median(), inplace=True)\n",
        "    else:\n",
        "        print(f\"Aviso: Coluna de nota '{col}' não encontrada para processamento numérico.\")\n"
      ],
      "metadata": {
        "colab": {
          "base_uri": "https://localhost:8080/"
        },
        "id": "vMUoaaOA0HQ5",
        "outputId": "f31f1ba7-04aa-415e-bed9-0b202d83e89d"
      },
      "execution_count": 29,
      "outputs": [
        {
          "output_type": "stream",
          "name": "stdout",
          "text": [
            "Aviso: Coluna de nota 'nota_geral' não encontrada para processamento numérico.\n",
            "Aviso: Coluna de nota 'nota_transparencia_ativa' não encontrada para processamento numérico.\n",
            "Aviso: Coluna de nota 'nota_transparencia_passiva' não encontrada para processamento numérico.\n"
          ]
        }
      ]
    },
    {
      "cell_type": "markdown",
      "source": [
        " Converter 'populacao' para numérico, tratando vírgulas e NaNs"
      ],
      "metadata": {
        "id": "4bIJFCiT0LPm"
      }
    },
    {
      "cell_type": "code",
      "source": [
        "if 'populacao' in df.columns:\n",
        "    print(f\"Processando coluna numérica: 'populacao'\")\n",
        "    df['populacao'] = df['populacao'].astype(str).str.replace(',', '.', regex=False) # Garante tratamento de vírgulas\n",
        "    df['populacao'] = pd.to_numeric(df['populacao'], errors='coerce')\n",
        "    df['populacao'].fillna(df['populacao'].median(), inplace=True)\n",
        "else:\n",
        "    print(\"Aviso: Coluna 'populacao' não encontrada para processamento numérico.\")\n"
      ],
      "metadata": {
        "colab": {
          "base_uri": "https://localhost:8080/"
        },
        "id": "mBDVzPVX0NfM",
        "outputId": "aafd7b69-e01c-4ef0-bafa-5a8f7eadb402"
      },
      "execution_count": 30,
      "outputs": [
        {
          "output_type": "stream",
          "name": "stdout",
          "text": [
            "Aviso: Coluna 'populacao' não encontrada para processamento numérico.\n"
          ]
        }
      ]
    },
    {
      "cell_type": "markdown",
      "source": [
        "Remover linhas com valores ausentes em colunas críticas (se houver)\n",
        " Garante que as colunas existam antes de usá-las no subset\n"
      ],
      "metadata": {
        "id": "lWRMqOn_0RQm"
      }
    },
    {
      "cell_type": "code",
      "source": [
        "critical_columns = [col for col in ['municipio_estado', 'estado', 'tipo_ente', 'nota_geral'] if col in df.columns]\n",
        "if critical_columns:\n",
        "    print(f\"\\nRemovendo linhas com valores nulos nas colunas críticas: {critical_columns}\")\n",
        "    df.dropna(subset=critical_columns, inplace=True)\n",
        "else:\n",
        "    print(\"Atenção: Colunas críticas para dropna não encontradas. Verifique os nomes das colunas.\")\n",
        "\n",
        "\n",
        "print(\"\\nApós limpeza e preparação:\")\n",
        "print(df.info())\n",
        "print(\"\\nValores nulos após tratamento:\")\n",
        "print(df.isnull().sum())\n"
      ],
      "metadata": {
        "colab": {
          "base_uri": "https://localhost:8080/"
        },
        "id": "TLBR9O8G0U1h",
        "outputId": "42a286c8-db46-4106-ab0f-d558c269ef46"
      },
      "execution_count": 31,
      "outputs": [
        {
          "output_type": "stream",
          "name": "stdout",
          "text": [
            "Atenção: Colunas críticas para dropna não encontradas. Verifique os nomes das colunas.\n",
            "\n",
            "Após limpeza e preparação:\n",
            "<class 'pandas.core.frame.DataFrame'>\n",
            "RangeIndex: 2 entries, 0 to 1\n",
            "Data columns (total 2 columns):\n",
            " #   Column                                       Non-Null Count  Dtype \n",
            "---  ------                                       --------------  ----- \n",
            " 0   doctype_htmlhtmlheadscriptfunctionwdsliwlwl  2 non-null      object\n",
            " 1   wlpushgtmstart                               2 non-null      object\n",
            "dtypes: object(2)\n",
            "memory usage: 164.0+ bytes\n",
            "None\n",
            "\n",
            "Valores nulos após tratamento:\n",
            "doctype_htmlhtmlheadscriptfunctionwdsliwlwl    0\n",
            "wlpushgtmstart                                 0\n",
            "dtype: int64\n"
          ]
        }
      ]
    },
    {
      "cell_type": "markdown",
      "source": [
        "3. Análise Exploratória com Resumo Estatístico e Gráficos\n",
        "Bloco de execução condicional para a análise e gráficos"
      ],
      "metadata": {
        "id": "9jcYd0dq0ahW"
      }
    },
    {
      "cell_type": "code",
      "source": [
        "if 'nota_geral' in df.columns:\n",
        "    print(\"\\n--- Resumo Estatístico da Nota Geral ---\")\n",
        "    print(df['nota_geral'].describe())\n",
        "else:\n",
        "    print(\"\\nA coluna 'nota_geral' não foi encontrada para resumo estatístico.\")\n",
        "\n",
        "if 'tipo_ente' in df.columns and 'nota_geral' in df.columns:\n",
        "    print(\"\\n--- Notas Médias por Tipo de Ente ---\")\n",
        "    print(df.groupby('tipo_ente')['nota_geral'].mean().sort_values(ascending=False))\n",
        "else:\n",
        "    print(\"\\nColunas 'tipo_ente' ou 'nota_geral' não encontradas para notas médias por tipo de ente.\")\n",
        "\n",
        "if 'regiao' in df.columns and 'nota_geral' in df.columns:\n",
        "    print(\"\\n--- Notas Médias por Região ---\")\n",
        "    print(df.groupby('regiao')['nota_geral'].mean().sort_values(ascending=False))\n",
        "else:\n",
        "    print(\"\\nColunas 'regiao' ou 'nota_geral' não encontradas para notas médias por região.\")\n",
        "\n",
        "if 'nota_geral' in df.columns and 'municipio_estado' in df.columns and 'estado' in df.columns:\n",
        "    print(\"\\n--- Top 10 Entes Federativos com Maiores Notas Gerais ---\")\n",
        "    print(df.sort_values(by='nota_geral', ascending=False).head(10)[['municipio_estado', 'estado', 'nota_geral']])\n",
        "    print(\"\\n--- Top 10 Entes Federativos com Menores Notas Gerais ---\")\n",
        "    print(df.sort_values(by='nota_geral', ascending=True).head(10)[['municipio_estado', 'estado', 'nota_geral']])\n",
        "else:\n",
        "    print(\"\\nColunas necessárias para o Top 10 (municipio_estado, estado, nota_geral) não encontradas.\")\n"
      ],
      "metadata": {
        "colab": {
          "base_uri": "https://localhost:8080/"
        },
        "id": "VqGkjbiy0iT6",
        "outputId": "4b20559a-7c7f-4abd-90f5-21de772c659c"
      },
      "execution_count": 32,
      "outputs": [
        {
          "output_type": "stream",
          "name": "stdout",
          "text": [
            "\n",
            "A coluna 'nota_geral' não foi encontrada para resumo estatístico.\n",
            "\n",
            "Colunas 'tipo_ente' ou 'nota_geral' não encontradas para notas médias por tipo de ente.\n",
            "\n",
            "Colunas 'regiao' ou 'nota_geral' não encontradas para notas médias por região.\n",
            "\n",
            "Colunas necessárias para o Top 10 (municipio_estado, estado, nota_geral) não encontradas.\n"
          ]
        }
      ]
    },
    {
      "cell_type": "markdown",
      "source": [
        "Gráficos de Visualização"
      ],
      "metadata": {
        "id": "ijSGTlnF0mQ4"
      }
    },
    {
      "cell_type": "code",
      "source": [
        "plt.style.use('seaborn-v0_8-darkgrid') # Estilo mais moderno para os gráficos\n",
        "\n",
        "if 'nota_geral' in df.columns:\n",
        "    # Distribuição da Nota Geral\n",
        "    plt.figure(figsize=(10, 6))\n",
        "    sns.histplot(df['nota_geral'], bins=20, kde=True, color='skyblue')\n",
        "    plt.title('Distribuição da Nota Geral da Escala Brasil Transparente', fontsize=16)\n",
        "    plt.xlabel('Nota Geral', fontsize=12)\n",
        "    plt.ylabel('Frequência', fontsize=12)\n",
        "    plt.grid(axis='y', alpha=0.75)\n",
        "    plt.show()\n",
        "else:\n",
        "    print(\"\\nNão é possível gerar o gráfico de Distribuição da Nota Geral: coluna 'nota_geral' não encontrada.\")\n",
        "\n",
        "if 'tipo_ente' in df.columns and 'nota_geral' in df.columns:\n",
        "    # Box Plot da Nota Geral por Tipo de Ente\n",
        "    plt.figure(figsize=(10, 6))\n",
        "    sns.boxplot(x='tipo_ente', y='nota_geral', data=df, palette='viridis')\n",
        "    plt.title('Box Plot da Nota Geral por Tipo de Ente', fontsize=16)\n",
        "    plt.xlabel('Tipo de Ente', fontsize=12)\n",
        "    plt.ylabel('Nota Geral', fontsize=12)\n",
        "    plt.show()\n",
        "else:\n",
        "    print(\"\\nNão é possível gerar o Box Plot da Nota Geral por Tipo de Ente: colunas 'tipo_ente' ou 'nota_geral' não encontradas.\")\n",
        "\n",
        "if 'regiao' in df.columns and 'nota_geral' in df.columns:\n",
        "    # Box Plot da Nota Geral por Região\n",
        "    plt.figure(figsize=(12, 7))\n",
        "    sns.boxplot(x='regiao', y='nota_geral', data=df, palette='plasma')\n",
        "    plt.title('Box Plot da Nota Geral por Região', fontsize=16)\n",
        "    plt.xlabel('Região', fontsize=12)\n",
        "    plt.ylabel('Nota Geral', fontsize=12)\n",
        "    plt.show()\n",
        "else:\n",
        "    print(\"\\nNão é possível gerar o Box Plot da Nota Geral por Região: colunas 'regiao' ou 'nota_geral' não encontradas.\")\n",
        "\n",
        "if 'estado' in df.columns and 'nota_geral' in df.columns:\n",
        "    # Gráfico de Barras das Notas Médias por Estado (Top 15)\n",
        "    plt.figure(figsize=(14, 8))\n",
        "    avg_nota_estado = df.groupby('estado')['nota_geral'].mean().sort_values(ascending=False).head(15)\n",
        "    sns.barplot(x=avg_nota_estado.index, y=avg_nota_estado.values, palette='coolwarm')\n",
        "    plt.title('Top 15 Estados com Maiores Notas Médias de Transparência', fontsize=16)\n",
        "    plt.xlabel('Estado', fontsize=12)\n",
        "    plt.ylabel('Nota Média Geral', fontsize=12)\n",
        "    plt.xticks(rotation=45, ha='right')\n",
        "    plt.tight_layout()\n",
        "    plt.show()\n",
        "else:\n",
        "    print(\"\\nNão é possível gerar o gráfico de Barras das Notas Médias por Estado: colunas 'estado' ou 'nota_geral' não encontradas.\")\n"
      ],
      "metadata": {
        "colab": {
          "base_uri": "https://localhost:8080/"
        },
        "id": "t-PcA_jW0oJF",
        "outputId": "9cc67b12-0f97-4bda-f45b-71d9fbe099c4"
      },
      "execution_count": 33,
      "outputs": [
        {
          "output_type": "stream",
          "name": "stdout",
          "text": [
            "\n",
            "Não é possível gerar o gráfico de Distribuição da Nota Geral: coluna 'nota_geral' não encontrada.\n",
            "\n",
            "Não é possível gerar o Box Plot da Nota Geral por Tipo de Ente: colunas 'tipo_ente' ou 'nota_geral' não encontradas.\n",
            "\n",
            "Não é possível gerar o Box Plot da Nota Geral por Região: colunas 'regiao' ou 'nota_geral' não encontradas.\n",
            "\n",
            "Não é possível gerar o gráfico de Barras das Notas Médias por Estado: colunas 'estado' ou 'nota_geral' não encontradas.\n"
          ]
        }
      ]
    },
    {
      "cell_type": "markdown",
      "source": [
        "Correlação entre Nota Geral e População (se a coluna 'populacao' estiver disponível e for numérica)"
      ],
      "metadata": {
        "id": "PB36AU7d0vMN"
      }
    },
    {
      "cell_type": "code",
      "source": [
        "if 'populacao' in df.columns and 'nota_geral' in df.columns:\n",
        "    plt.figure(figsize=(10, 6))\n",
        "    sns.scatterplot(x='populacao', y='nota_geral', data=df, alpha=0.6, color='purple')\n",
        "    plt.title('Correlação entre Nota Geral e População', fontsize=16)\n",
        "    plt.xlabel('População', fontsize=12)\n",
        "    plt.ylabel('Nota Geral', fontsize=12)\n",
        "    plt.xscale('log') # Usar escala logarítmica para população devido à grande variação\n",
        "    plt.grid(True, which=\"both\", ls=\"--\", c=\"0.7\")\n",
        "    plt.show()\n",
        "    print(f\"\\nCoeficiente de Correlação entre Nota Geral e População: {df['nota_geral'].corr(df['populacao']):.2f}\")\n",
        "else:\n",
        "    print(\"\\nNão é possível gerar o gráfico de Correlação entre Nota Geral e População: colunas 'populacao' ou 'nota_geral' não encontradas.\")\n"
      ],
      "metadata": {
        "colab": {
          "base_uri": "https://localhost:8080/"
        },
        "id": "dzMfzWqL0xMn",
        "outputId": "5ab42355-1ae8-4d4f-e1cd-c678eec8dc7f"
      },
      "execution_count": 34,
      "outputs": [
        {
          "output_type": "stream",
          "name": "stdout",
          "text": [
            "\n",
            "Não é possível gerar o gráfico de Correlação entre Nota Geral e População: colunas 'populacao' ou 'nota_geral' não encontradas.\n"
          ]
        }
      ]
    },
    {
      "cell_type": "markdown",
      "source": [
        "Comparação entre Transparência Ativa e Passiva"
      ],
      "metadata": {
        "id": "6oR12kQd0_CN"
      }
    },
    {
      "cell_type": "code",
      "source": [
        "if 'nota_transparencia_ativa' in df.columns and 'nota_transparencia_passiva' in df.columns:\n",
        "    plt.figure(figsize=(10, 6))\n",
        "    sns.scatterplot(x='nota_transparencia_ativa', y='nota_transparencia_passiva', data=df, alpha=0.6, color='teal')\n",
        "    plt.title('Comparação entre Nota de Transparência Ativa e Passiva', fontsize=16)\n",
        "    plt.xlabel('Nota de Transparência Ativa', fontsize=12)\n",
        "    plt.ylabel('Nota de Transparência Passiva', fontsize=12)\n",
        "    plt.grid(True, which=\"both\", ls=\"--\", c=\"0.7\")\n",
        "    plt.show()\n",
        "    print(f\"\\nCoeficiente de Correlação entre Transparência Ativa e Passiva: {df['nota_transparencia_ativa'].corr(df['nota_transparencia_passiva']):.2f}\")\n",
        "else:\n",
        "    print(\"\\nNão é possível gerar o gráfico de Comparação entre Transparência Ativa e Passiva: colunas 'nota_transparencia_ativa' ou 'nota_transparencia_passiva' não encontradas.\")\n"
      ],
      "metadata": {
        "colab": {
          "base_uri": "https://localhost:8080/"
        },
        "id": "z2IwJQKg1BIF",
        "outputId": "7dd57503-d864-47e9-d497-47373ffbbe1b"
      },
      "execution_count": 35,
      "outputs": [
        {
          "output_type": "stream",
          "name": "stdout",
          "text": [
            "\n",
            "Não é possível gerar o gráfico de Comparação entre Transparência Ativa e Passiva: colunas 'nota_transparencia_ativa' ou 'nota_transparencia_passiva' não encontradas.\n"
          ]
        }
      ]
    }
  ]
}